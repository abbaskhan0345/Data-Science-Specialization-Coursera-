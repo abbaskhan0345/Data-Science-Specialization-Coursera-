{
 "cells": [
  {
   "cell_type": "markdown",
   "id": "92d69933",
   "metadata": {},
   "source": [
    "\n",
    "# 📘 Variables in Python\n",
    "\n",
    "In Python, a **variable** is used to store data that can be referenced and manipulated later.\n",
    "Think of a variable as a **container** for values.\n",
    "\n",
    "👉 **Rules for naming variables:**\n",
    "- Must start with a letter or underscore (`_`)\n",
    "- Cannot start with a number\n",
    "- Can only contain letters, numbers, and underscores\n",
    "- Are case-sensitive (`age` and `Age` are different)\n",
    "- Avoid using Python keywords (like `for`, `if`, `class`, etc.)\n",
    "\n"
   ]
  },
  {
   "cell_type": "markdown",
   "id": "ca06baba",
   "metadata": {},
   "source": [
    "## Creating Variables"
   ]
  },
  {
   "cell_type": "code",
   "execution_count": null,
   "id": "54656843",
   "metadata": {},
   "outputs": [],
   "source": [
    "\n",
    "# Creating variables\n",
    "name = \"Abbas\"\n",
    "age = 22\n",
    "is_student = True\n",
    "\n",
    "print(name, age, is_student)\n"
   ]
  },
  {
   "cell_type": "markdown",
   "id": "f7633027",
   "metadata": {},
   "source": [
    "\n",
    "## Variable Types\n",
    "\n",
    "Python automatically detects the type of variable when you assign a value.\n",
    "\n",
    "Common types are:\n",
    "- `int` → integers (whole numbers)\n",
    "- `float` → decimals\n",
    "- `str` → text (string)\n",
    "- `bool` → True/False values\n"
   ]
  },
  {
   "cell_type": "code",
   "execution_count": null,
   "id": "220fbf4a",
   "metadata": {},
   "outputs": [],
   "source": [
    "\n",
    "# Examples of variable types\n",
    "x = 10          # int\n",
    "y = 3.14        # float\n",
    "z = \"Hello\"     # string\n",
    "flag = False    # boolean\n",
    "\n",
    "print(type(x), type(y), type(z), type(flag))\n"
   ]
  },
  {
   "cell_type": "markdown",
   "id": "fe82f2c5",
   "metadata": {},
   "source": [
    "## Changing Variables"
   ]
  },
  {
   "cell_type": "code",
   "execution_count": null,
   "id": "fd220e21",
   "metadata": {},
   "outputs": [],
   "source": [
    "\n",
    "# Variables can be changed easily\n",
    "count = 5\n",
    "print(\"Before:\", count)\n",
    "\n",
    "count = 10\n",
    "print(\"After:\", count)\n"
   ]
  },
  {
   "cell_type": "markdown",
   "id": "42ffa799",
   "metadata": {},
   "source": [
    "## Multiple Assignments"
   ]
  },
  {
   "cell_type": "code",
   "execution_count": null,
   "id": "e7ccdbc8",
   "metadata": {},
   "outputs": [],
   "source": [
    "\n",
    "# Assigning multiple values at once\n",
    "a, b, c = 1, 2, 3\n",
    "print(a, b, c)\n",
    "\n",
    "# Assigning the same value to multiple variables\n",
    "x = y = z = 100\n",
    "print(x, y, z)\n"
   ]
  },
  {
   "cell_type": "markdown",
   "id": "079a212d",
   "metadata": {},
   "source": [
    "## Dynamic Typing in Python"
   ]
  },
  {
   "cell_type": "code",
   "execution_count": null,
   "id": "2f284813",
   "metadata": {},
   "outputs": [],
   "source": [
    "\n",
    "# Python allows reassigning variables with different types\n",
    "data = 50\n",
    "print(\"Initially:\", data, type(data))\n",
    "\n",
    "data = \"Now I am a string!\"\n",
    "print(\"After change:\", data, type(data))\n",
    "\n",
    "data = [1, 2, 3]\n",
    "print(\"Finally:\", data, type(data))\n"
   ]
  },
  {
   "cell_type": "markdown",
   "id": "3fb96ba3",
   "metadata": {},
   "source": [
    "\n",
    "## Constants in Python\n",
    "\n",
    "Python does not have real constants (unchangeable variables), \n",
    "but by convention we use **UPPERCASE** variable names to indicate that a variable should not be changed.\n"
   ]
  },
  {
   "cell_type": "code",
   "execution_count": null,
   "id": "bffab2bf",
   "metadata": {},
   "outputs": [],
   "source": [
    "\n",
    "# Example of constant\n",
    "PI = 3.14159\n",
    "GRAVITY = 9.8\n",
    "\n",
    "print(\"PI:\", PI)\n",
    "print(\"Gravity:\", GRAVITY)\n"
   ]
  },
  {
   "cell_type": "markdown",
   "id": "df99d648",
   "metadata": {},
   "source": [
    "\n",
    "## ✍️ Your Turn\n",
    "\n",
    "Try the following tasks to practice variables:\n",
    "1. Create a variable `city` and assign your favorite city.\n",
    "2. Create two variables `a` and `b`, assign numbers, and swap them.\n",
    "3. Create a variable with your name, and print: `\"Hello, <your_name>!\"`\n",
    "4. Try reassigning the same variable with different data types (e.g., number → string → list).\n"
   ]
  }
 ],
 "metadata": {},
 "nbformat": 4,
 "nbformat_minor": 5
}