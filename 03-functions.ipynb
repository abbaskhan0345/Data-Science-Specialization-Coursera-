{
 "cells": [
  {
   "cell_type": "markdown",
   "id": "a27146ca",
   "metadata": {},
   "source": [
    "# Functions in Python\n",
    "\n",
    "Functions are reusable blocks of code that perform a specific task. \n",
    "They help make code modular, easier to read, test, and maintain.\n",
    "\n",
    "In this notebook, we will cover:\n",
    "- What functions are\n",
    "- Defining and calling functions\n",
    "- Function arguments\n",
    "- Return values\n",
    "- Default arguments\n",
    "- Keyword arguments\n",
    "- Variable length arguments (*args, **kwargs)\n",
    "- Lambda functions\n",
    "- Scope of variables\n",
    "- Practical examples\n",
    "- Exercises\n"
   ]
  },
  {
   "cell_type": "markdown",
   "id": "25997af2",
   "metadata": {},
   "source": [
    "## Defining and Calling Functions"
   ]
  },
  {
   "cell_type": "code",
   "execution_count": null,
   "id": "3acd4765",
   "metadata": {},
   "outputs": [],
   "source": [
    "\n",
    "def greet():\n",
    "    print(\"Hello, welcome to Python functions!\")\n",
    "\n",
    "# Calling the function\n",
    "greet()\n"
   ]
  },
  {
   "cell_type": "markdown",
   "id": "776f4d0e",
   "metadata": {},
   "source": [
    "## Functions with Parameters"
   ]
  },
  {
   "cell_type": "code",
   "execution_count": null,
   "id": "edee1dbc",
   "metadata": {},
   "outputs": [],
   "source": [
    "\n",
    "def greet_user(name):\n",
    "    print(f\"Hello {name}, welcome to Python functions!\")\n",
    "\n",
    "# Example\n",
    "greet_user(\"Abbas\")\n"
   ]
  },
  {
   "cell_type": "markdown",
   "id": "b5483f62",
   "metadata": {},
   "source": [
    "## Functions with Return Values"
   ]
  },
  {
   "cell_type": "code",
   "execution_count": null,
   "id": "8b8d9ac6",
   "metadata": {},
   "outputs": [],
   "source": [
    "\n",
    "def square(number):\n",
    "    return number ** 2\n",
    "\n",
    "result = square(5)\n",
    "print(\"Square of 5 is:\", result)\n"
   ]
  },
  {
   "cell_type": "markdown",
   "id": "449a25af",
   "metadata": {},
   "source": [
    "## Default Arguments"
   ]
  },
  {
   "cell_type": "code",
   "execution_count": null,
   "id": "b0ecf7f2",
   "metadata": {},
   "outputs": [],
   "source": [
    "\n",
    "def greet_user(name=\"Guest\"):\n",
    "    print(f\"Hello {name}, welcome!\")\n",
    "\n",
    "greet_user()\n",
    "greet_user(\"Ali\")\n"
   ]
  },
  {
   "cell_type": "markdown",
   "id": "d2b5a631",
   "metadata": {},
   "source": [
    "## Keyword Arguments"
   ]
  },
  {
   "cell_type": "code",
   "execution_count": null,
   "id": "d47596dc",
   "metadata": {},
   "outputs": [],
   "source": [
    "\n",
    "def student_info(name, age):\n",
    "    print(f\"Name: {name}, Age: {age}\")\n",
    "\n",
    "# Using keyword arguments\n",
    "student_info(age=22, name=\"Aisha\")\n"
   ]
  },
  {
   "cell_type": "markdown",
   "id": "56707c67",
   "metadata": {},
   "source": [
    "## Variable Length Arguments (*args and **kwargs)"
   ]
  },
  {
   "cell_type": "code",
   "execution_count": null,
   "id": "9654af56",
   "metadata": {},
   "outputs": [],
   "source": [
    "\n",
    "def add_numbers(*args):\n",
    "    return sum(args)\n",
    "\n",
    "print(add_numbers(2, 3, 4, 5))\n",
    "\n",
    "def print_info(**kwargs):\n",
    "    for key, value in kwargs.items():\n",
    "        print(f\"{key}: {value}\")\n",
    "\n",
    "print_info(name=\"Abbas\", course=\"BSSE\", year=7)\n"
   ]
  },
  {
   "cell_type": "markdown",
   "id": "028b87ee",
   "metadata": {},
   "source": [
    "## Lambda (Anonymous) Functions"
   ]
  },
  {
   "cell_type": "code",
   "execution_count": null,
   "id": "5dedebc5",
   "metadata": {},
   "outputs": [],
   "source": [
    "\n",
    "square = lambda x: x ** 2\n",
    "print(square(6))\n",
    "\n",
    "add = lambda a, b: a + b\n",
    "print(add(3, 5))\n"
   ]
  },
  {
   "cell_type": "markdown",
   "id": "15737803",
   "metadata": {},
   "source": [
    "## Variable Scope"
   ]
  },
  {
   "cell_type": "code",
   "execution_count": null,
   "id": "ec311036",
   "metadata": {},
   "outputs": [],
   "source": [
    "\n",
    "x = 10  # Global variable\n",
    "\n",
    "def func():\n",
    "    x = 5  # Local variable\n",
    "    print(\"Inside function:\", x)\n",
    "\n",
    "func()\n",
    "print(\"Outside function:\", x)\n"
   ]
  },
  {
   "cell_type": "markdown",
   "id": "a1de5db6",
   "metadata": {},
   "source": [
    "## Practical Example: Calculator Function"
   ]
  },
  {
   "cell_type": "code",
   "execution_count": null,
   "id": "f0e2f412",
   "metadata": {},
   "outputs": [],
   "source": [
    "\n",
    "def calculator(a, b, operation=\"add\"):\n",
    "    if operation == \"add\":\n",
    "        return a + b\n",
    "    elif operation == \"subtract\":\n",
    "        return a - b\n",
    "    elif operation == \"multiply\":\n",
    "        return a * b\n",
    "    elif operation == \"divide\":\n",
    "        return a / b if b != 0 else \"Error: Division by zero\"\n",
    "    else:\n",
    "        return \"Invalid operation\"\n",
    "\n",
    "print(calculator(10, 5))\n",
    "print(calculator(10, 5, \"subtract\"))\n",
    "print(calculator(10, 5, \"multiply\"))\n",
    "print(calculator(10, 5, \"divide\"))\n"
   ]
  },
  {
   "cell_type": "markdown",
   "id": "8bf7e4a8",
   "metadata": {},
   "source": [
    "## Exercises"
   ]
  },
  {
   "cell_type": "markdown",
   "id": "cdf9402b",
   "metadata": {},
   "source": [
    "\n",
    "1. Write a function to calculate the factorial of a number.\n",
    "2. Write a function that takes a list of numbers and returns the maximum number.\n",
    "3. Write a function that checks if a string is a palindrome.\n",
    "4. Create a function that returns the Fibonacci sequence up to `n` terms.\n",
    "5. Write a function `is_prime(n)` that returns True if `n` is a prime number, otherwise False.\n"
   ]
  }
 ],
 "metadata": {},
 "nbformat": 4,
 "nbformat_minor": 5
}
