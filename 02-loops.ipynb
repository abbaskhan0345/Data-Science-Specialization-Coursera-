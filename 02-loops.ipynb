{
 "cells": [
  {
   "cell_type": "markdown",
   "id": "224cfae9",
   "metadata": {},
   "source": [
    "# 02 - Loops in Python\n",
    "\n",
    "In this notebook, we will explore loops in Python, including `for` and `while` loops. Loops are fundamental for repeating tasks efficiently."
   ]
  },
  {
   "cell_type": "markdown",
   "id": "f2014203",
   "metadata": {},
   "source": [
    "## For Loops\n",
    "A **for loop** is used to iterate over a sequence (like a list, tuple, string, or range)."
   ]
  },
  {
   "cell_type": "code",
   "execution_count": null,
   "id": "03961f9b",
   "metadata": {},
   "outputs": [],
   "source": [
    "# Example: Looping through a list\n",
    "fruits = [\"apple\", \"banana\", \"cherry\"]\n",
    "for fruit in fruits:\n",
    "    print(fruit)"
   ]
  },
  {
   "cell_type": "markdown",
   "id": "470d04ad",
   "metadata": {},
   "source": [
    "### Using `range()` with for loop\n",
    "The `range()` function generates a sequence of numbers, often used with loops."
   ]
  },
  {
   "cell_type": "code",
   "execution_count": null,
   "id": "69c0e8a8",
   "metadata": {},
   "outputs": [],
   "source": [
    "# Example: Looping with range\n",
    "for i in range(5):\n",
    "    print(\"Number:\", i)"
   ]
  },
  {
   "cell_type": "markdown",
   "id": "6897454a",
   "metadata": {},
   "source": [
    "## While Loops\n",
    "A **while loop** continues to execute as long as the condition is `True`. Be careful to avoid infinite loops."
   ]
  },
  {
   "cell_type": "code",
   "execution_count": null,
   "id": "d0c362f7",
   "metadata": {},
   "outputs": [],
   "source": [
    "# Example: While loop\n",
    "count = 0\n",
    "while count < 5:\n",
    "    print(\"Count:\", count)\n",
    "    count += 1"
   ]
  },
  {
   "cell_type": "markdown",
   "id": "c6605a34",
   "metadata": {},
   "source": [
    "## Break and Continue\n",
    "- `break` is used to exit the loop early.\n",
    "- `continue` skips the current iteration and moves to the next one."
   ]
  },
  {
   "cell_type": "code",
   "execution_count": null,
   "id": "c015c5dd",
   "metadata": {},
   "outputs": [],
   "source": [
    "# Example with break\n",
    "for i in range(10):\n",
    "    if i == 5:\n",
    "        break\n",
    "    print(i)\n",
    "\n",
    "# Example with continue\n",
    "for i in range(10):\n",
    "    if i % 2 == 0:\n",
    "        continue\n",
    "    print(\"Odd number:\", i)"
   ]
  },
  {
   "cell_type": "markdown",
   "id": "81c71e55",
   "metadata": {},
   "source": [
    "## Nested Loops\n",
    "You can place one loop inside another. This is useful for working with multi-dimensional data."
   ]
  },
  {
   "cell_type": "code",
   "execution_count": null,
   "id": "66745657",
   "metadata": {},
   "outputs": [],
   "source": [
    "# Example: Nested loops\n",
    "for i in range(3):\n",
    "    for j in range(2):\n",
    "        print(f\"i={i}, j={j}\")"
   ]
  },
  {
   "cell_type": "markdown",
   "id": "b27df213",
   "metadata": {},
   "source": [
    "## Practical Example: Multiplication Table\n",
    "Let's use nested loops to print a multiplication table."
   ]
  },
  {
   "cell_type": "code",
   "execution_count": null,
   "id": "870af4f9",
   "metadata": {},
   "outputs": [],
   "source": [
    "# Multiplication table 1-5\n",
    "for i in range(1, 6):\n",
    "    for j in range(1, 6):\n",
    "        print(f\"{i} x {j} = {i*j}\")\n",
    "    print(\"-\"*15)"
   ]
  },
  {
   "cell_type": "markdown",
   "id": "0108edf9",
   "metadata": {},
   "source": [
    "## Exercises\n",
    "Try these on your own:\n",
    "\n",
    "1. Write a `for` loop to print the square of numbers from 1 to 10.\n",
    "2. Write a `while` loop that prints numbers from 10 down to 1.\n",
    "3. Use a `for` loop with `continue` to print only even numbers between 1 and 20.\n",
    "4. Create a nested loop that prints coordinates `(x, y)` for `x` in range(3) and `y` in range(3).\n",
    "5. Challenge: Write a program to check if a given number is prime using a loop."
   ]
  }
 ],
 "metadata": {},
 "nbformat": 4,
 "nbformat_minor": 5
}
