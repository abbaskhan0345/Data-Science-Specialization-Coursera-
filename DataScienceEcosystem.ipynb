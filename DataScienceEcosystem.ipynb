{
 "cells": [
  {
   "cell_type": "markdown",
   "id": "f6b1eba0",
   "metadata": {},
   "source": [
    "# Data Science Tools and Ecosystem"
   ]
  },
  {
   "cell_type": "markdown",
   "id": "57cd2da1",
   "metadata": {},
   "source": [
    "### In this notebook, Data Science Tools and Ecosystem are summarized."
   ]
  },
  {
   "cell_type": "markdown",
   "id": "30862151",
   "metadata": {},
   "source": [
    "Some of the popular languages that Data Scientists use are:\n",
    "\n",
    "1. Python\n",
    "2. R\n",
    "3. Julia\n"
   ]
  },
  {
   "cell_type": "markdown",
   "id": "37fadd67",
   "metadata": {},
   "source": [
    "\n",
    "Some of the commonly used libraries used by Data Scientists include:\n",
    "\n",
    "1. Pandas\n",
    "2. Numpy\n",
    "3. Scikit-learn"
   ]
  },
  {
   "cell_type": "markdown",
   "id": "45a14c45",
   "metadata": {},
   "source": [
    "6 Data Science Tools table\n",
    "\n",
    "|6 Data Science Tools|\n",
    "|-----------------|\n",
    "|Jupyter| \n",
    "|RStudio|\n",
    "|Spyder|\n",
    "|VS Code|\n",
    "|Atom|\n",
    "|PyCharm|\n"
   ]
  },
  {
   "cell_type": "markdown",
   "id": "32412864",
   "metadata": {},
   "source": [
    "### Below are a few examples of evaluating arithmetic expressions in Python \n",
    "\n",
    "1 + 1\n",
    "3 * 4\n",
    "(3 * 4) + 5"
   ]
  },
  {
   "cell_type": "code",
   "execution_count": 1,
   "id": "222ba167",
   "metadata": {},
   "outputs": [
    {
     "data": {
      "text/plain": [
       "17"
      ]
     },
     "execution_count": 1,
     "metadata": {},
     "output_type": "execute_result"
    }
   ],
   "source": [
    "# This a simple arithmetic expression to mutiply then add integers\n",
    "(3 * 4) + 5"
   ]
  },
  {
   "cell_type": "code",
   "execution_count": 2,
   "id": "de033aac",
   "metadata": {},
   "outputs": [
    {
     "name": "stdout",
     "output_type": "stream",
     "text": [
      "2.0\n"
     ]
    }
   ],
   "source": [
    "# Minutes into hours\n",
    "minutes = 120\n",
    "hours = minutes / 60\n",
    "print(hours)"
   ]
  },
  {
   "cell_type": "markdown",
   "id": "f288712c",
   "metadata": {},
   "source": [
    "Objectives:\n",
    "- List popular languages for Data Science\n",
    "- List popular libraries used in Data Science\n",
    "- Create a simple arithmetic expression to mutiply then add integers"
   ]
  },
  {
   "cell_type": "markdown",
   "id": "89326985",
   "metadata": {},
   "source": [
    "## Author\n",
    "\n",
    "**Hazrat Abbas Khan**"
   ]
  },
  {
   "cell_type": "markdown",
   "id": "dcfb97ff",
   "metadata": {},
   "source": []
  }
 ],
 "metadata": {
  "kernelspec": {
   "display_name": "Python 3",
   "language": "python",
   "name": "python3"
  },
  "language_info": {
   "codemirror_mode": {
    "name": "ipython",
    "version": 3
   },
   "file_extension": ".py",
   "mimetype": "text/x-python",
   "name": "python",
   "nbconvert_exporter": "python",
   "pygments_lexer": "ipython3",
   "version": "3.10.11"
  }
 },
 "nbformat": 4,
 "nbformat_minor": 5
}
